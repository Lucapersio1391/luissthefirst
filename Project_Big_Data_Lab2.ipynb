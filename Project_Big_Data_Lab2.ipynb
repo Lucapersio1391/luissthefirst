{
 "cells": [
  {
   "cell_type": "markdown",
   "metadata": {},
   "source": [
    "## PROJECT 2"
   ]
  },
  {
   "cell_type": "code",
   "execution_count": 1,
   "metadata": {},
   "outputs": [],
   "source": [
    "import numpy as np\n",
    "import pandas as pd\n",
    "import matplotlib.pyplot as plt\n",
    "%matplotlib inline"
   ]
  },
  {
   "cell_type": "code",
   "execution_count": 2,
   "metadata": {},
   "outputs": [],
   "source": [
    "from bs4 import BeautifulSoup as soup"
   ]
  },
  {
   "cell_type": "code",
   "execution_count": 3,
   "metadata": {},
   "outputs": [],
   "source": [
    "import requests"
   ]
  },
  {
   "cell_type": "code",
   "execution_count": 4,
   "metadata": {},
   "outputs": [],
   "source": [
    "# url of the page of interest\n",
    "wiki = 'https://en.wikipedia.org/wiki/List_of_countries_by_net_migration_rate'\n",
    "\n",
    "# load the page\n",
    "html = requests.get(wiki)"
   ]
  },
  {
   "cell_type": "code",
   "execution_count": 5,
   "metadata": {},
   "outputs": [],
   "source": [
    "# save the content of the page\n",
    "content = html.text\n",
    "initialSoup = soup(content, \"lxml\")"
   ]
  },
  {
   "cell_type": "code",
   "execution_count": 6,
   "metadata": {},
   "outputs": [],
   "source": [
    "tables = initialSoup.findAll('table', {'class' : 'wikitable sortable'})"
   ]
  },
  {
   "cell_type": "code",
   "execution_count": 7,
   "metadata": {},
   "outputs": [],
   "source": [
    "secondSoup = soup(str(tables[0]),\"lxml\")\n",
    "ths = secondSoup.find_all('td') # table contents"
   ]
  },
  {
   "cell_type": "code",
   "execution_count": 8,
   "metadata": {},
   "outputs": [],
   "source": [
    "L=len(ths)\n",
    "countries = []\n",
    "total_pop = []\n",
    "tnm = []\n",
    "nm = []\n",
    "\n",
    "for l in range(0, L, 4):\n",
    "    countries.append(ths[int(l)].text)\n",
    "    total_pop.append(ths[int(l+1)].text)\n",
    "    tnm.append(ths[int(l+2)].text)\n",
    "    nm.append(ths[int(l+3)].text)"
   ]
  },
  {
   "cell_type": "code",
   "execution_count": 9,
   "metadata": {},
   "outputs": [],
   "source": [
    "df = pd.DataFrame()\n",
    "df['Countries'] = countries\n",
    "df['Total Population'] = total_pop\n",
    "df['Total Net Migration'] = tnm\n",
    "df['Net Migration'] = nm"
   ]
  },
  {
   "cell_type": "code",
   "execution_count": 10,
   "metadata": {},
   "outputs": [],
   "source": [
    "## Shortest way to remove commas from the values\n",
    "def remCommas(z,i):\n",
    "    df[i] = [x.replace(z, '') for x in df[i]]\n",
    "    return df[i]    "
   ]
  },
  {
   "cell_type": "code",
   "execution_count": 11,
   "metadata": {},
   "outputs": [],
   "source": [
    "for x in df.iloc[:, 1:3]:\n",
    "    remCommas(',', x)"
   ]
  },
  {
   "cell_type": "code",
   "execution_count": 12,
   "metadata": {},
   "outputs": [],
   "source": [
    "## Remove non-breaking space '\\xa0' in ISO 8859-1\n",
    "\n",
    "df['Countries']= [x.replace('\\xa0', '') for x in df['Countries']]"
   ]
  },
  {
   "cell_type": "code",
   "execution_count": null,
   "metadata": {},
   "outputs": [],
   "source": [
    "## Longest way to remove commas from the values\n",
    "df['Total Net Migration'] = [x.replace(',', '') for x in df['Total Net Migration']]\n",
    "df['Total Population'] = [x.replace(',', '') for x in df['Total Population']]"
   ]
  },
  {
   "cell_type": "code",
   "execution_count": 13,
   "metadata": {},
   "outputs": [
    {
     "data": {
      "text/plain": [
       "str"
      ]
     },
     "execution_count": 13,
     "metadata": {},
     "output_type": "execute_result"
    }
   ],
   "source": [
    "type(df['Net Migration'][0]) # we want numbers, not strings"
   ]
  },
  {
   "cell_type": "code",
   "execution_count": 14,
   "metadata": {},
   "outputs": [],
   "source": [
    "##Shortest way to convert string values to numeric\n",
    "def ToNum(x):\n",
    "    df[x] = pd.to_numeric(df[x], errors= 'coerce') # we need to use error argument because there are missing values\n",
    "    return df[x]"
   ]
  },
  {
   "cell_type": "code",
   "execution_count": 15,
   "metadata": {},
   "outputs": [],
   "source": [
    "for x in df.iloc[:,1:]:\n",
    "    ToNum(x)"
   ]
  },
  {
   "cell_type": "code",
   "execution_count": null,
   "metadata": {},
   "outputs": [],
   "source": [
    "## Longest way to convert string values to numeric\n",
    "df['Net Migration'] = pd.to_numeric(df['Net Migration'], errors= 'coerce')\n",
    "df['Total Net Migration'] = pd.to_numeric(df['Total Net Migration'], errors= 'coerce')\n",
    "df['Total Population'] = pd.to_numeric(df['Total Population'], errors = 'coerce')"
   ]
  },
  {
   "cell_type": "code",
   "execution_count": 16,
   "metadata": {},
   "outputs": [
    {
     "data": {
      "text/plain": [
       "numpy.float64"
      ]
     },
     "execution_count": 16,
     "metadata": {},
     "output_type": "execute_result"
    }
   ],
   "source": [
    "type(df['Net Migration'][0]) # here we are"
   ]
  },
  {
   "cell_type": "code",
   "execution_count": 17,
   "metadata": {},
   "outputs": [
    {
     "data": {
      "text/html": [
       "<div>\n",
       "<style scoped>\n",
       "    .dataframe tbody tr th:only-of-type {\n",
       "        vertical-align: middle;\n",
       "    }\n",
       "\n",
       "    .dataframe tbody tr th {\n",
       "        vertical-align: top;\n",
       "    }\n",
       "\n",
       "    .dataframe thead th {\n",
       "        text-align: right;\n",
       "    }\n",
       "</style>\n",
       "<table border=\"1\" class=\"dataframe\">\n",
       "  <thead>\n",
       "    <tr style=\"text-align: right;\">\n",
       "      <th></th>\n",
       "      <th>Countries</th>\n",
       "      <th>Total Population</th>\n",
       "      <th>Total Net Migration</th>\n",
       "      <th>Net Migration</th>\n",
       "    </tr>\n",
       "  </thead>\n",
       "  <tbody>\n",
       "    <tr>\n",
       "      <th>0</th>\n",
       "      <td>Aruba</td>\n",
       "      <td>102393.0</td>\n",
       "      <td>1253.0</td>\n",
       "      <td>12.24</td>\n",
       "    </tr>\n",
       "    <tr>\n",
       "      <th>1</th>\n",
       "      <td>Argentina</td>\n",
       "      <td>43847430.0</td>\n",
       "      <td>NaN</td>\n",
       "      <td>NaN</td>\n",
       "    </tr>\n",
       "    <tr>\n",
       "      <th>2</th>\n",
       "      <td>Afghanistan</td>\n",
       "      <td>29726803.0</td>\n",
       "      <td>473007.0</td>\n",
       "      <td>15.91</td>\n",
       "    </tr>\n",
       "    <tr>\n",
       "      <th>3</th>\n",
       "      <td>Angola</td>\n",
       "      <td>25789024.0</td>\n",
       "      <td>102322.0</td>\n",
       "      <td>4.51</td>\n",
       "    </tr>\n",
       "    <tr>\n",
       "      <th>4</th>\n",
       "      <td>Albania</td>\n",
       "      <td>2900247.0</td>\n",
       "      <td>-91750.0</td>\n",
       "      <td>-31.64</td>\n",
       "    </tr>\n",
       "  </tbody>\n",
       "</table>\n",
       "</div>"
      ],
      "text/plain": [
       "     Countries  Total Population  Total Net Migration  Net Migration\n",
       "0        Aruba          102393.0               1253.0          12.24\n",
       "1    Argentina        43847430.0                  NaN            NaN\n",
       "2  Afghanistan        29726803.0             473007.0          15.91\n",
       "3       Angola        25789024.0             102322.0           4.51\n",
       "4      Albania         2900247.0             -91750.0         -31.64"
      ]
     },
     "execution_count": 17,
     "metadata": {},
     "output_type": "execute_result"
    }
   ],
   "source": [
    "## Now the dataset is clean\n",
    "df.head()"
   ]
  },
  {
   "cell_type": "code",
   "execution_count": 18,
   "metadata": {},
   "outputs": [],
   "source": [
    "df.sort_values('Countries', inplace = True)"
   ]
  },
  {
   "cell_type": "code",
   "execution_count": 19,
   "metadata": {},
   "outputs": [
    {
     "data": {
      "text/html": [
       "<div>\n",
       "<style scoped>\n",
       "    .dataframe tbody tr th:only-of-type {\n",
       "        vertical-align: middle;\n",
       "    }\n",
       "\n",
       "    .dataframe tbody tr th {\n",
       "        vertical-align: top;\n",
       "    }\n",
       "\n",
       "    .dataframe thead th {\n",
       "        text-align: right;\n",
       "    }\n",
       "</style>\n",
       "<table border=\"1\" class=\"dataframe\">\n",
       "  <thead>\n",
       "    <tr style=\"text-align: right;\">\n",
       "      <th></th>\n",
       "      <th>Countries</th>\n",
       "      <th>Total Population</th>\n",
       "      <th>Total Net Migration</th>\n",
       "      <th>Net Migration</th>\n",
       "    </tr>\n",
       "  </thead>\n",
       "  <tbody>\n",
       "    <tr>\n",
       "      <th>2</th>\n",
       "      <td>Afghanistan</td>\n",
       "      <td>29726803.0</td>\n",
       "      <td>473007.0</td>\n",
       "      <td>15.91</td>\n",
       "    </tr>\n",
       "    <tr>\n",
       "      <th>4</th>\n",
       "      <td>Albania</td>\n",
       "      <td>2900247.0</td>\n",
       "      <td>-91750.0</td>\n",
       "      <td>-31.64</td>\n",
       "    </tr>\n",
       "    <tr>\n",
       "      <th>53</th>\n",
       "      <td>Algeria</td>\n",
       "      <td>37439427.0</td>\n",
       "      <td>-143268.0</td>\n",
       "      <td>-3.83</td>\n",
       "    </tr>\n",
       "    <tr>\n",
       "      <th>8</th>\n",
       "      <td>American Samoa</td>\n",
       "      <td>55227.0</td>\n",
       "      <td>NaN</td>\n",
       "      <td>NaN</td>\n",
       "    </tr>\n",
       "    <tr>\n",
       "      <th>6</th>\n",
       "      <td>Andorra</td>\n",
       "      <td>42095224.0</td>\n",
       "      <td>30000.0</td>\n",
       "      <td>0.71</td>\n",
       "    </tr>\n",
       "  </tbody>\n",
       "</table>\n",
       "</div>"
      ],
      "text/plain": [
       "         Countries  Total Population  Total Net Migration  Net Migration\n",
       "2      Afghanistan        29726803.0             473007.0          15.91\n",
       "4          Albania         2900247.0             -91750.0         -31.64\n",
       "53         Algeria        37439427.0            -143268.0          -3.83\n",
       "8   American Samoa           55227.0                  NaN            NaN\n",
       "6          Andorra        42095224.0              30000.0           0.71"
      ]
     },
     "execution_count": 19,
     "metadata": {},
     "output_type": "execute_result"
    }
   ],
   "source": [
    "df.head() ## I want to reset the index according to the alphabetical order of the countries"
   ]
  },
  {
   "cell_type": "code",
   "execution_count": 20,
   "metadata": {},
   "outputs": [],
   "source": [
    "df.reset_index(inplace = True)"
   ]
  },
  {
   "cell_type": "code",
   "execution_count": 21,
   "metadata": {},
   "outputs": [
    {
     "data": {
      "text/html": [
       "<div>\n",
       "<style scoped>\n",
       "    .dataframe tbody tr th:only-of-type {\n",
       "        vertical-align: middle;\n",
       "    }\n",
       "\n",
       "    .dataframe tbody tr th {\n",
       "        vertical-align: top;\n",
       "    }\n",
       "\n",
       "    .dataframe thead th {\n",
       "        text-align: right;\n",
       "    }\n",
       "</style>\n",
       "<table border=\"1\" class=\"dataframe\">\n",
       "  <thead>\n",
       "    <tr style=\"text-align: right;\">\n",
       "      <th></th>\n",
       "      <th>index</th>\n",
       "      <th>Countries</th>\n",
       "      <th>Total Population</th>\n",
       "      <th>Total Net Migration</th>\n",
       "      <th>Net Migration</th>\n",
       "    </tr>\n",
       "  </thead>\n",
       "  <tbody>\n",
       "    <tr>\n",
       "      <th>213</th>\n",
       "      <td>210</td>\n",
       "      <td>World</td>\n",
       "      <td>7.089452e+09</td>\n",
       "      <td>0.0</td>\n",
       "      <td>0.0</td>\n",
       "    </tr>\n",
       "  </tbody>\n",
       "</table>\n",
       "</div>"
      ],
      "text/plain": [
       "     index Countries  Total Population  Total Net Migration  Net Migration\n",
       "213    210     World      7.089452e+09                  0.0            0.0"
      ]
     },
     "execution_count": 21,
     "metadata": {},
     "output_type": "execute_result"
    }
   ],
   "source": [
    "df[df['Countries'] == 'World']"
   ]
  },
  {
   "cell_type": "code",
   "execution_count": 22,
   "metadata": {},
   "outputs": [],
   "source": [
    "# Remove the row world from the dataframe\n",
    "\n",
    "df.drop(df.index[213], inplace = True)"
   ]
  },
  {
   "cell_type": "code",
   "execution_count": 23,
   "metadata": {},
   "outputs": [],
   "source": [
    "df.drop(columns= 'index', inplace = True) # remove also the column index"
   ]
  },
  {
   "cell_type": "code",
   "execution_count": 24,
   "metadata": {},
   "outputs": [
    {
     "data": {
      "text/html": [
       "<div>\n",
       "<style scoped>\n",
       "    .dataframe tbody tr th:only-of-type {\n",
       "        vertical-align: middle;\n",
       "    }\n",
       "\n",
       "    .dataframe tbody tr th {\n",
       "        vertical-align: top;\n",
       "    }\n",
       "\n",
       "    .dataframe thead th {\n",
       "        text-align: right;\n",
       "    }\n",
       "</style>\n",
       "<table border=\"1\" class=\"dataframe\">\n",
       "  <thead>\n",
       "    <tr style=\"text-align: right;\">\n",
       "      <th></th>\n",
       "      <th>Countries</th>\n",
       "      <th>Total Population</th>\n",
       "      <th>Total Net Migration</th>\n",
       "      <th>Net Migration</th>\n",
       "    </tr>\n",
       "  </thead>\n",
       "  <tbody>\n",
       "    <tr>\n",
       "      <th>0</th>\n",
       "      <td>Afghanistan</td>\n",
       "      <td>29726803.0</td>\n",
       "      <td>473007.0</td>\n",
       "      <td>15.91</td>\n",
       "    </tr>\n",
       "    <tr>\n",
       "      <th>1</th>\n",
       "      <td>Albania</td>\n",
       "      <td>2900247.0</td>\n",
       "      <td>-91750.0</td>\n",
       "      <td>-31.64</td>\n",
       "    </tr>\n",
       "    <tr>\n",
       "      <th>2</th>\n",
       "      <td>Algeria</td>\n",
       "      <td>37439427.0</td>\n",
       "      <td>-143268.0</td>\n",
       "      <td>-3.83</td>\n",
       "    </tr>\n",
       "    <tr>\n",
       "      <th>3</th>\n",
       "      <td>American Samoa</td>\n",
       "      <td>55227.0</td>\n",
       "      <td>NaN</td>\n",
       "      <td>NaN</td>\n",
       "    </tr>\n",
       "    <tr>\n",
       "      <th>4</th>\n",
       "      <td>Andorra</td>\n",
       "      <td>42095224.0</td>\n",
       "      <td>30000.0</td>\n",
       "      <td>0.71</td>\n",
       "    </tr>\n",
       "  </tbody>\n",
       "</table>\n",
       "</div>"
      ],
      "text/plain": [
       "        Countries  Total Population  Total Net Migration  Net Migration\n",
       "0     Afghanistan        29726803.0             473007.0          15.91\n",
       "1         Albania         2900247.0             -91750.0         -31.64\n",
       "2         Algeria        37439427.0            -143268.0          -3.83\n",
       "3  American Samoa           55227.0                  NaN            NaN\n",
       "4         Andorra        42095224.0              30000.0           0.71"
      ]
     },
     "execution_count": 24,
     "metadata": {},
     "output_type": "execute_result"
    }
   ],
   "source": [
    "df.head()"
   ]
  },
  {
   "cell_type": "code",
   "execution_count": 25,
   "metadata": {},
   "outputs": [
    {
     "data": {
      "text/html": [
       "<div>\n",
       "<style scoped>\n",
       "    .dataframe tbody tr th:only-of-type {\n",
       "        vertical-align: middle;\n",
       "    }\n",
       "\n",
       "    .dataframe tbody tr th {\n",
       "        vertical-align: top;\n",
       "    }\n",
       "\n",
       "    .dataframe thead th {\n",
       "        text-align: right;\n",
       "    }\n",
       "</style>\n",
       "<table border=\"1\" class=\"dataframe\">\n",
       "  <thead>\n",
       "    <tr style=\"text-align: right;\">\n",
       "      <th></th>\n",
       "      <th>Countries</th>\n",
       "      <th>Total Population</th>\n",
       "      <th>Total Net Migration</th>\n",
       "      <th>Net Migration</th>\n",
       "    </tr>\n",
       "  </thead>\n",
       "  <tbody>\n",
       "    <tr>\n",
       "      <th>211</th>\n",
       "      <td>Vietnam</td>\n",
       "      <td>88809200.0</td>\n",
       "      <td>-200002.0</td>\n",
       "      <td>-2.25</td>\n",
       "    </tr>\n",
       "    <tr>\n",
       "      <th>212</th>\n",
       "      <td>West Bank and Gaza Strip</td>\n",
       "      <td>4046901.0</td>\n",
       "      <td>-43750.0</td>\n",
       "      <td>-10.81</td>\n",
       "    </tr>\n",
       "    <tr>\n",
       "      <th>214</th>\n",
       "      <td>Yemen</td>\n",
       "      <td>24882792.0</td>\n",
       "      <td>-50000.0</td>\n",
       "      <td>-2.01</td>\n",
       "    </tr>\n",
       "    <tr>\n",
       "      <th>215</th>\n",
       "      <td>Zambia</td>\n",
       "      <td>14786581.0</td>\n",
       "      <td>-34490.0</td>\n",
       "      <td>-2.33</td>\n",
       "    </tr>\n",
       "    <tr>\n",
       "      <th>216</th>\n",
       "      <td>Zimbabwe</td>\n",
       "      <td>14565482.0</td>\n",
       "      <td>-219922.0</td>\n",
       "      <td>-15.10</td>\n",
       "    </tr>\n",
       "  </tbody>\n",
       "</table>\n",
       "</div>"
      ],
      "text/plain": [
       "                    Countries  Total Population  Total Net Migration  \\\n",
       "211                   Vietnam        88809200.0            -200002.0   \n",
       "212  West Bank and Gaza Strip         4046901.0             -43750.0   \n",
       "214                     Yemen        24882792.0             -50000.0   \n",
       "215                    Zambia        14786581.0             -34490.0   \n",
       "216                  Zimbabwe        14565482.0            -219922.0   \n",
       "\n",
       "     Net Migration  \n",
       "211          -2.25  \n",
       "212         -10.81  \n",
       "214          -2.01  \n",
       "215          -2.33  \n",
       "216         -15.10  "
      ]
     },
     "execution_count": 25,
     "metadata": {},
     "output_type": "execute_result"
    }
   ],
   "source": [
    "df.tail()"
   ]
  },
  {
   "cell_type": "code",
   "execution_count": 26,
   "metadata": {},
   "outputs": [],
   "source": [
    "## I want to add the continent column\n",
    "\n",
    "Asia = ['Yemen','Maldives','Malaysia','Kazakhstan','Kuwait', 'Azerbaijan','Hong Kong', 'Bhutan', 'Lebanon', 'Qatar','Saudi Arabia', 'Philippines', 'Pakistan', 'Oman','Myanmar', 'Sri Lanka', 'Macau', 'Korea, North','Korea, South', 'Laos', 'Lebanon','Thailand','Indonesia','China','Japan','Bangladesh', 'India', 'Nepal', \n",
    "        'West Bank and Gaza Strip', 'Vietnam', 'Syria', 'Timor-Leste', 'Turkmenistan', 'Tajikistan', 'Afghanistan', 'United Arab Emirates', 'Armenia', 'Bahrain', 'Brunei', 'Iran', 'Iraq', 'Jordan', 'Kyrgyzstan', 'Cambodia', 'Mongolia','Uzbekistan', 'Singapore']\n",
    "Europe = ['Malta','Gibraltar', 'Kosovo', 'Georgia','Greece', 'Austria', 'Albania', 'Italy', 'France', 'Luxembourg', 'Germany', 'United Kingdom', 'Sweden', 'Russia', 'Finland','Norway', 'Israel',\n",
    "          'Denmark', 'Switzerland', 'Andorra', 'Spain', 'Croatia', 'Hungary', 'Ireland', 'Estonia', 'Greenland', 'Iceland',\n",
    "          'Iceland', 'Liechtenstein', 'Monaco', 'Latvia', 'Moldova', 'Macedonia', 'Montenegro', 'Netherlands', 'Poland', \n",
    "          'Portugal', 'Romania', 'Serbia', 'Slovenia', 'Turkey', 'Ukraine', 'Belgium', 'Lithuania', 'San Marino', 'Slovakia', 'Belarus', 'Bulgaria', 'Cyprus', 'Czech Republic', 'Isle of Man', 'Bosnia and Herzegovina']\n",
    "North_Center_America = ['Cayman Islands', 'Honduras','Haiti','El Salvador','Saint Vincent and the Grenadines','British Virgin Islands','U.S. Virgin Islands','Antigua and Barbuda', 'Bermuda', 'Costa Rica','Cuba', 'Jamaica','Saint Martin', 'Sint Maarten', 'Saint Lucia','Saint Kitts and Nevis','United States','Mexico', 'Canada',\n",
    "                        'Aruba','Barbados', 'Curaçao', 'Puerto Rico', 'Grenada', ' Honduras', 'Nicaragua', 'Bahamas', 'Belize', 'Dominican Republic', 'Guatemala', 'Panama','Trinidad and Tobago']\n",
    "South_America = ['Peru', 'Bolivia' , 'Guatemala' , 'Venezuela' , 'Mexico' , 'Argentina', 'Brazil', 'Chile', 'Uruguay', \n",
    "                 'Paraguay', 'Guyana', 'Colombia', 'Ecuador', 'Suriname']\n",
    "Africa = ['Kenya','Gabon', 'Lesotho', 'Algeria','Libya', 'Sierra Leone','Angola','Burkina Faso', 'Namibia', 'Mauritania','Mauritius', 'Niger', 'Rwanda', 'São Tomé and Príncipe', 'Nigeria', 'Eritrea','Malawi','Ethiopia', 'Madagascar', 'Liberia', 'Gambia', 'Equatorial Guinea' 'Algeria','Chad', 'Uganda', 'South Africa', 'Congo, Republic of the','Congo, Democratic Republic of the',\n",
    "          'Senegal', 'Guinea-Bissau' , 'Egypt', 'Morocco', 'Swaziland', 'Mozambique','Zambia' , 'Zimbabwe', 'Djibouti', 'Ghana','Burundi', 'Equatorial Guinea', 'Togo','Tanzania',\n",
    "         'Seychelles', 'Tunisia', 'Benin', 'Botswana', 'Central African Republic', 'Cameroon', \"Cote d'Ivoire\", 'Cabo Verde', 'Comoros', 'Mali', 'Sudan', 'South Sudan', 'Somalia']"
   ]
  },
  {
   "cell_type": "code",
   "execution_count": 27,
   "metadata": {},
   "outputs": [
    {
     "data": {
      "text/html": [
       "<div>\n",
       "<style scoped>\n",
       "    .dataframe tbody tr th:only-of-type {\n",
       "        vertical-align: middle;\n",
       "    }\n",
       "\n",
       "    .dataframe tbody tr th {\n",
       "        vertical-align: top;\n",
       "    }\n",
       "\n",
       "    .dataframe thead th {\n",
       "        text-align: right;\n",
       "    }\n",
       "</style>\n",
       "<table border=\"1\" class=\"dataframe\">\n",
       "  <thead>\n",
       "    <tr style=\"text-align: right;\">\n",
       "      <th></th>\n",
       "      <th>Countries</th>\n",
       "      <th>Total Population</th>\n",
       "      <th>Total Net Migration</th>\n",
       "      <th>Net Migration</th>\n",
       "      <th>Continent</th>\n",
       "    </tr>\n",
       "  </thead>\n",
       "  <tbody>\n",
       "    <tr>\n",
       "      <th>0</th>\n",
       "      <td>Afghanistan</td>\n",
       "      <td>29726803.0</td>\n",
       "      <td>473007.0</td>\n",
       "      <td>15.91</td>\n",
       "      <td>Asia</td>\n",
       "    </tr>\n",
       "    <tr>\n",
       "      <th>1</th>\n",
       "      <td>Albania</td>\n",
       "      <td>2900247.0</td>\n",
       "      <td>-91750.0</td>\n",
       "      <td>-31.64</td>\n",
       "      <td>Europe</td>\n",
       "    </tr>\n",
       "    <tr>\n",
       "      <th>2</th>\n",
       "      <td>Algeria</td>\n",
       "      <td>37439427.0</td>\n",
       "      <td>-143268.0</td>\n",
       "      <td>-3.83</td>\n",
       "      <td>Africa</td>\n",
       "    </tr>\n",
       "    <tr>\n",
       "      <th>3</th>\n",
       "      <td>American Samoa</td>\n",
       "      <td>55227.0</td>\n",
       "      <td>NaN</td>\n",
       "      <td>NaN</td>\n",
       "      <td>Ocean</td>\n",
       "    </tr>\n",
       "    <tr>\n",
       "      <th>4</th>\n",
       "      <td>Andorra</td>\n",
       "      <td>42095224.0</td>\n",
       "      <td>30000.0</td>\n",
       "      <td>0.71</td>\n",
       "      <td>Europe</td>\n",
       "    </tr>\n",
       "  </tbody>\n",
       "</table>\n",
       "</div>"
      ],
      "text/plain": [
       "        Countries  Total Population  Total Net Migration  Net Migration  \\\n",
       "0     Afghanistan        29726803.0             473007.0          15.91   \n",
       "1         Albania         2900247.0             -91750.0         -31.64   \n",
       "2         Algeria        37439427.0            -143268.0          -3.83   \n",
       "3  American Samoa           55227.0                  NaN            NaN   \n",
       "4         Andorra        42095224.0              30000.0           0.71   \n",
       "\n",
       "  Continent  \n",
       "0      Asia  \n",
       "1    Europe  \n",
       "2    Africa  \n",
       "3     Ocean  \n",
       "4    Europe  "
      ]
     },
     "execution_count": 27,
     "metadata": {},
     "output_type": "execute_result"
    }
   ],
   "source": [
    "def find_continent(x):\n",
    "    if x in Asia:\n",
    "        return 'Asia'\n",
    "    elif x in South_America:\n",
    "        return 'South America'\n",
    "    elif x in Europe:\n",
    "        return 'Europe'\n",
    "    elif x in North_Center_America:\n",
    "        return 'North&Center America'\n",
    "    elif x in Africa:\n",
    "        return 'Africa'\n",
    "    else:\n",
    "        return 'Ocean'\n",
    "df['Continent'] = df['Countries'].apply(find_continent)\n",
    "df.head()\n"
   ]
  },
  {
   "cell_type": "code",
   "execution_count": 28,
   "metadata": {},
   "outputs": [
    {
     "data": {
      "text/html": [
       "<div>\n",
       "<style scoped>\n",
       "    .dataframe tbody tr th:only-of-type {\n",
       "        vertical-align: middle;\n",
       "    }\n",
       "\n",
       "    .dataframe tbody tr th {\n",
       "        vertical-align: top;\n",
       "    }\n",
       "\n",
       "    .dataframe thead th {\n",
       "        text-align: right;\n",
       "    }\n",
       "</style>\n",
       "<table border=\"1\" class=\"dataframe\">\n",
       "  <thead>\n",
       "    <tr style=\"text-align: right;\">\n",
       "      <th></th>\n",
       "      <th>Total Population</th>\n",
       "      <th>Total Net Migration</th>\n",
       "      <th>Net Migration</th>\n",
       "    </tr>\n",
       "    <tr>\n",
       "      <th>Continent</th>\n",
       "      <th></th>\n",
       "      <th></th>\n",
       "      <th></th>\n",
       "    </tr>\n",
       "  </thead>\n",
       "  <tbody>\n",
       "    <tr>\n",
       "      <th>Africa</th>\n",
       "      <td>2.083531e+07</td>\n",
       "      <td>-54701.811321</td>\n",
       "      <td>-4.863654</td>\n",
       "    </tr>\n",
       "    <tr>\n",
       "      <th>Asia</th>\n",
       "      <td>9.009970e+07</td>\n",
       "      <td>-174757.391304</td>\n",
       "      <td>18.950000</td>\n",
       "    </tr>\n",
       "    <tr>\n",
       "      <th>Europe</th>\n",
       "      <td>1.701246e+07</td>\n",
       "      <td>134477.750000</td>\n",
       "      <td>2.573409</td>\n",
       "    </tr>\n",
       "    <tr>\n",
       "      <th>North&amp;Center America</th>\n",
       "      <td>1.395282e+07</td>\n",
       "      <td>226133.347826</td>\n",
       "      <td>-5.694783</td>\n",
       "    </tr>\n",
       "    <tr>\n",
       "      <th>Ocean</th>\n",
       "      <td>2.230587e+06</td>\n",
       "      <td>68175.500000</td>\n",
       "      <td>-16.400000</td>\n",
       "    </tr>\n",
       "    <tr>\n",
       "      <th>South America</th>\n",
       "      <td>3.890659e+07</td>\n",
       "      <td>-96133.384615</td>\n",
       "      <td>-7.469231</td>\n",
       "    </tr>\n",
       "  </tbody>\n",
       "</table>\n",
       "</div>"
      ],
      "text/plain": [
       "                      Total Population  Total Net Migration  Net Migration\n",
       "Continent                                                                 \n",
       "Africa                    2.083531e+07        -54701.811321      -4.863654\n",
       "Asia                      9.009970e+07       -174757.391304      18.950000\n",
       "Europe                    1.701246e+07        134477.750000       2.573409\n",
       "North&Center America      1.395282e+07        226133.347826      -5.694783\n",
       "Ocean                     2.230587e+06         68175.500000     -16.400000\n",
       "South America             3.890659e+07        -96133.384615      -7.469231"
      ]
     },
     "execution_count": 28,
     "metadata": {},
     "output_type": "execute_result"
    }
   ],
   "source": [
    "by_cont = df.groupby('Continent').mean() # create a new dataframe in which I group by the continent and compute the means.\n",
    "by_cont"
   ]
  },
  {
   "cell_type": "code",
   "execution_count": 29,
   "metadata": {},
   "outputs": [],
   "source": [
    "# this function comes in very handy for plotting barplots\n",
    "\n",
    "def makebar(i, ylabel, title):\n",
    "    xlabels = by_cont.index\n",
    "    y = by_cont[i]\n",
    "    bar_width = 0.9\n",
    "    x = np.arange(len(y))\n",
    "    fig, ax = plt.subplots(1,1,figsize = (14,14), dpi = 100)\n",
    "    ax.bar(x, y, width=bar_width, color = 'r', edgecolor = 'blue')\n",
    "    ax.set_xticks(x+(bar_width/12))\n",
    "    ax.set_xticklabels(xlabels, color = 'blue')\n",
    "    ax.set_title(title, fontsize = 20)\n",
    "    ax.set_xlabel('Continents', color = 'r', fontsize = 20)\n",
    "    ax.set_ylabel(ylabel)\n",
    "    plt.show()"
   ]
  },
  {
   "cell_type": "code",
   "execution_count": 30,
   "metadata": {},
   "outputs": [
    {
     "data": {
      "image/png": "[encoded data removed]",
      "text/plain": [
       "<Figure size 1400x1400 with 1 Axes>"
      ]
     },
     "metadata": {},
     "output_type": "display_data"
    }
   ],
   "source": [
    "makebar('Total Population', 'Inhabitants', 'Avg Population per Continent')"
   ]
  },
  {
   "cell_type": "code",
   "execution_count": 31,
   "metadata": {},
   "outputs": [
    {
     "data": {
      "image/png": "[encoded data removed]",
      "text/plain": [
       "<Figure size 1400x1400 with 1 Axes>"
      ]
     },
     "metadata": {},
     "output_type": "display_data"
    }
   ],
   "source": [
    "makebar('Total Net Migration', 'Number of Migrants', 'Avg Total Migration per Continent')"
   ]
  },
  {
   "cell_type": "code",
   "execution_count": 32,
   "metadata": {},
   "outputs": [
    {
     "data": {
      "image/png": "[encoded data removed]",
      "text/plain": [
       "<Figure size 1400x1400 with 1 Axes>"
      ]
     },
     "metadata": {},
     "output_type": "display_data"
    }
   ],
   "source": [
    "makebar('Net Migration', 'Number of Migrants (per 1000 inhabitants)', 'Avg Total Migration per Continent (per 1000 inhabitants)')"
   ]
  }
 ],
 "metadata": {
  "kernelspec": {
   "display_name": "Python 3",
   "language": "python",
   "name": "python3"
  },
  "language_info": {
   "codemirror_mode": {
    "name": "ipython",
    "version": 3
   },
   "file_extension": ".py",
   "mimetype": "text/x-python",
   "name": "python",
   "nbconvert_exporter": "python",
   "pygments_lexer": "ipython3",
   "version": "3.6.5"
  }
 },
 "nbformat": 4,
 "nbformat_minor": 2
}
